{
 "cells": [
  {
   "cell_type": "code",
   "execution_count": 3,
   "id": "76193afc",
   "metadata": {},
   "outputs": [
    {
     "name": "stdout",
     "output_type": "stream",
     "text": [
      "['1', 'Milky bar', '2', '0']\n"
     ]
    }
   ],
   "source": [
    "fd=open('inventory','r')\n",
    "\n",
    "products=fd.read().split('\\n')\n",
    "\n",
    "for product in products:\n",
    "    product=product.split(',')\n",
    "    if(product[0]=='1' or product[0]==1):\n",
    "        print(product)"
   ]
  },
  {
   "cell_type": "code",
   "execution_count": 10,
   "id": "3fbef004",
   "metadata": {},
   "outputs": [
    {
     "name": "stdout",
     "output_type": "stream",
     "text": [
      "<class 'str'>\n"
     ]
    }
   ],
   "source": [
    "num=10\n",
    "print(type(str(num)))"
   ]
  },
  {
   "cell_type": "code",
   "execution_count": 9,
   "id": "b21497a8",
   "metadata": {},
   "outputs": [
    {
     "name": "stdout",
     "output_type": "stream",
     "text": [
      "<class 'int'>\n"
     ]
    }
   ],
   "source": [
    "print(type(num))"
   ]
  },
  {
   "cell_type": "code",
   "execution_count": 5,
   "id": "e6f0469e",
   "metadata": {},
   "outputs": [
    {
     "name": "stdout",
     "output_type": "stream",
     "text": [
      "<class 'int'>\n"
     ]
    }
   ],
   "source": [
    "num=10\n",
    "print(type(num))"
   ]
  },
  {
   "cell_type": "code",
   "execution_count": 2,
   "id": "17bb29b4",
   "metadata": {},
   "outputs": [
    {
     "name": "stdout",
     "output_type": "stream",
     "text": [
      "1,Five star,5,100\n",
      "2,Milky bar,2,100\n",
      "3,cake,300,100\n",
      "4,candy,1,100\n"
     ]
    }
   ],
   "source": [
    "fd=open('inventory','r')\n",
    "\n",
    "txt=fd.read()\n",
    "print(txt)"
   ]
  },
  {
   "cell_type": "code",
   "execution_count": 3,
   "id": "10e64b87",
   "metadata": {},
   "outputs": [
    {
     "name": "stdout",
     "output_type": "stream",
     "text": [
      "['1,Five star,5,100', '2,Milky bar,2,100', '3,cake,300,100', '4,candy,1,100']\n"
     ]
    }
   ],
   "source": [
    "fd=open('inventory','r')\n",
    "\n",
    "products=fd.read().split('\\n')\n",
    "\n",
    "print(products)"
   ]
  },
  {
   "cell_type": "code",
   "execution_count": 53,
   "id": "c313dfd8",
   "metadata": {},
   "outputs": [
    {
     "name": "stdout",
     "output_type": "stream",
     "text": [
      "Enter your name:Atul\n",
      "Enter your phone number:9472303657\n",
      "Enter your mail id:atul06092001@gmail.com\n",
      "Enter the product id:3\n",
      "Enter the quantity of product:5\n",
      "-------------------------\n",
      "Product Name:      Dairy milk\n",
      "Product Price:     10\n",
      "Product Quantity:  5\n",
      "-------------------------\n",
      "Billing amount:    50\n",
      "-------------------------\n",
      "Dairy milk remaining in stock is: 95\n",
      "-------------------------\n",
      "Inventory updated.\n"
     ]
    }
   ],
   "source": [
    "import datetime\n",
    "\n",
    "# get the current date and time\n",
    "\n",
    "fd=open('inventory','r')\n",
    "\n",
    "products=fd.read().split('\\n')\n",
    "fd.close()\n",
    "user_username=input(\"Enter your name:\")\n",
    "user_phone=input(\"Enter your phone number:\")\n",
    "user_mail=input(\"Enter your mail id:\")\n",
    "user_prid=input(\"Enter the product id:\")\n",
    "user_prquant=input(\"Enter the quantity of product:\")\n",
    "\n",
    "updated_ls=[]\n",
    "\n",
    "for product in products:\n",
    "    \n",
    "    prod_detail=product.split(',')\n",
    "    \n",
    "    if(prod_detail[0]==user_prid):\n",
    "        \n",
    "        if(int(user_prquant)<=int(prod_detail[3])):\n",
    "            print(\"-------------------------\")\n",
    "            print(\"Product Name:     \", prod_detail[1])\n",
    "            print(\"Product Price:    \", prod_detail[2])\n",
    "            print(\"Product Quantity: \", user_prquant)\n",
    "        \n",
    "            print(\"-------------------------\")\n",
    "        \n",
    "            print(\"Billing amount:   \", int(prod_detail[2])*int(user_prquant))\n",
    "        \n",
    "            print(\"-------------------------\")\n",
    "        \n",
    "            print(prod_detail[1]+\" remaining in stock is:\", int(prod_detail[3])-int(user_prquant))\n",
    "        \n",
    "            print(\"-------------------------\")\n",
    "            \n",
    "            fd=open('Sales','a')\n",
    "            now = datetime.datetime.now()\n",
    "            sales_detail=user_username+\",\"+user_phone+\",\"+user_mail+\",\"+prod_detail[1]+\",\"+user_prid+\",\"+user_prquant+\",\"+str(int(prod_detail[2])*int(user_prquant))+\"\\n\"\n",
    "            fd.write(sales_detail)\n",
    "            \n",
    "            fd.close()\n",
    "            \n",
    "            prod_detail[3]=str(int(prod_detail[3])-int(user_prquant))\n",
    "        else:\n",
    "            print(\"Sorry,we don't have that much quantity in our stock.\")\n",
    "            print(\"We have only\",prod_detail[3],\"quantity\")\n",
    "            print(\"Would you like to buy it?\")\n",
    "            \n",
    "            ch=input(\"Press Y/N\")\n",
    "            \n",
    "            if(ch=='Y' or ch=='y'):\n",
    "                print(\"-------------------------\")\n",
    "                print(\"Product Name:     \", prod_detail[1])\n",
    "                print(\"Product Price:    \", prod_detail[2])\n",
    "                print(\"Product Quantity: \", prod_detail[3])\n",
    "        \n",
    "                print(\"-------------------------\")\n",
    "        \n",
    "                print(\"Billing amount:   \", int(prod_detail[2])*int(prod_detail[3]))\n",
    "        \n",
    "                print(\"-------------------------\")\n",
    "        \n",
    "                print(prod_detail[1]+\" remaining in stock is:\"+'0')\n",
    "        \n",
    "                print(\"-------------------------\")\n",
    "            \n",
    "                fd=open('Sales','a')\n",
    "                now = datetime.datetime.now()\n",
    "                sales_detail=user_username+\",\"+user_phone+\",\"+user_mail+\",\"+prod_detail[1]+\",\"+user_prid+\",\"+prod_detail[3]+\",\"+str(int(prod_detail[2])*int(prod_detail[3]))+\"\\n\"\n",
    "                fd.write(sales_detail)\n",
    "                \n",
    "                fd.close()\n",
    "            else:\n",
    "                print(\"Thanks for comming in the store.\")\n",
    "        \n",
    "            prod_detail[3]='0'\n",
    "    updated_ls.append(prod_detail)\n",
    "\n",
    "lst=[]\n",
    "\n",
    "for i in updated_ls:\n",
    "    prod=i[0]+\",\"+i[1]+\",\"+i[2]+\",\"+i[3]+ \"\\n\"\n",
    "    lst.append(prod)\n",
    "    \n",
    "lst[-1]=lst[-1][:-1]\n",
    "    \n",
    "fd=open('inventory','w')\n",
    "\n",
    "for i in lst:\n",
    "    fd.write(i)\n",
    "    \n",
    "fd.close()\n",
    "\n",
    "print(\"Inventory updated.\")"
   ]
  },
  {
   "cell_type": "code",
   "execution_count": 22,
   "id": "c16a7ad7",
   "metadata": {},
   "outputs": [
    {
     "name": "stdout",
     "output_type": "stream",
     "text": [
      "90\n"
     ]
    }
   ],
   "source": [
    "print(prod_detail[3])"
   ]
  },
  {
   "cell_type": "code",
   "execution_count": 25,
   "id": "093e55d9",
   "metadata": {},
   "outputs": [
    {
     "name": "stdout",
     "output_type": "stream",
     "text": [
      "1,Milky bar,2,0\n",
      "2,candy,1,90\n",
      "3,Dairy milk,10,100\n",
      "4,kitkat,35,90\n"
     ]
    }
   ],
   "source": [
    "for i in updated_ls:\n",
    "    prod=i[0]+\",\"+i[1]+\",\"+i[2]+\",\"+i[3]\n",
    "    print(prod)"
   ]
  },
  {
   "cell_type": "code",
   "execution_count": 26,
   "id": "2673dbb4",
   "metadata": {},
   "outputs": [
    {
     "name": "stdout",
     "output_type": "stream",
     "text": [
      "1,Milky bar,2,0\n",
      "2,candy,1,90\n",
      "3,Dairy milk,10,100\n",
      "4,kitkat,35,90\n"
     ]
    }
   ],
   "source": [
    "fd=open('inventory','r')\n",
    "\n",
    "txt=fd.read()\n",
    "\n",
    "print(txt)"
   ]
  },
  {
   "cell_type": "code",
   "execution_count": 32,
   "id": "86f9201e",
   "metadata": {},
   "outputs": [
    {
     "name": "stdout",
     "output_type": "stream",
     "text": [
      "<built-in function ctime>\n"
     ]
    }
   ],
   "source": [
    "import time\n",
    "\n",
    "print(time.ctime)"
   ]
  },
  {
   "cell_type": "code",
   "execution_count": 34,
   "id": "bf8f1053",
   "metadata": {},
   "outputs": [
    {
     "name": "stdout",
     "output_type": "stream",
     "text": [
      "<class 'int'>\n"
     ]
    }
   ],
   "source": [
    "num=10\n",
    "print(type(num))"
   ]
  },
  {
   "cell_type": "code",
   "execution_count": 35,
   "id": "029e78b4",
   "metadata": {},
   "outputs": [
    {
     "name": "stdout",
     "output_type": "stream",
     "text": [
      "10\n"
     ]
    }
   ],
   "source": [
    "print(str(num))"
   ]
  },
  {
   "cell_type": "code",
   "execution_count": 36,
   "id": "23bfbc4e",
   "metadata": {},
   "outputs": [
    {
     "name": "stdout",
     "output_type": "stream",
     "text": [
      "<class 'str'>\n"
     ]
    }
   ],
   "source": [
    "num=str(num)\n",
    "print(type(num))"
   ]
  },
  {
   "cell_type": "code",
   "execution_count": 38,
   "id": "ebf96e97",
   "metadata": {},
   "outputs": [
    {
     "name": "stdout",
     "output_type": "stream",
     "text": [
      "<class 'list'>\n"
     ]
    }
   ],
   "source": [
    "print(type(prod_detail))"
   ]
  },
  {
   "cell_type": "code",
   "execution_count": 39,
   "id": "8777ac15",
   "metadata": {},
   "outputs": [
    {
     "name": "stdout",
     "output_type": "stream",
     "text": [
      "<class 'str'>\n"
     ]
    }
   ],
   "source": [
    "print(type(prod_detail[0]))"
   ]
  },
  {
   "cell_type": "code",
   "execution_count": null,
   "id": "f1cc347e",
   "metadata": {},
   "outputs": [],
   "source": []
  }
 ],
 "metadata": {
  "kernelspec": {
   "display_name": "Python 3 (ipykernel)",
   "language": "python",
   "name": "python3"
  },
  "language_info": {
   "codemirror_mode": {
    "name": "ipython",
    "version": 3
   },
   "file_extension": ".py",
   "mimetype": "text/x-python",
   "name": "python",
   "nbconvert_exporter": "python",
   "pygments_lexer": "ipython3",
   "version": "3.11.3"
  }
 },
 "nbformat": 4,
 "nbformat_minor": 5
}
